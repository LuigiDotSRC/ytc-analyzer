{
 "cells": [
  {
   "cell_type": "code",
   "execution_count": 1,
   "id": "58a48db3-c3e6-4420-a721-b191e9d66790",
   "metadata": {},
   "outputs": [],
   "source": [
    "from dotenv import load_dotenv\n",
    "load_dotenv()\n",
    "\n",
    "import os\n",
    "key = os.getenv('GOOGLE_API_KEY')"
   ]
  },
  {
   "cell_type": "code",
   "execution_count": 27,
   "id": "87adfe11-05c2-4b9c-9c76-1903e2d05ebe",
   "metadata": {},
   "outputs": [],
   "source": [
    "from dataclasses import dataclass\n",
    "from datetime import datetime\n",
    "from typing import Optional\n",
    "\n",
    "@dataclass\n",
    "class Comment:\n",
    "    comment_id: str\n",
    "    author: str\n",
    "    text: str\n",
    "    like_count: int\n",
    "    published_at: datetime\n",
    "    parent_id: Optional[str]"
   ]
  },
  {
   "cell_type": "code",
   "execution_count": 31,
   "id": "1081b2b8-93b6-440c-a120-795c9f88e789",
   "metadata": {},
   "outputs": [],
   "source": [
    "import requests\n",
    "from typing import List\n",
    "\n",
    "def get_top_level_comments(video_id) -> List[Comment]:\n",
    "    url = 'https://www.googleapis.com/youtube/v3/commentThreads'\n",
    "    order = 'relevance'\n",
    "    params = {\n",
    "        'key': key,\n",
    "        'part': 'snippet',\n",
    "        'videoId': video_id,\n",
    "        'maxResults': 100,\n",
    "        'order': order,\n",
    "    }\n",
    "    \n",
    "    comments = []\n",
    "    response = requests.get(url, params=params)\n",
    "    data = response.json()\n",
    "    for item in data['items']:\n",
    "        top_comment = item['snippet']['topLevelComment']['snippet']\n",
    "        snippet_id = item['id']\n",
    "        author = top_comment['authorDisplayName']\n",
    "        text = top_comment['textDisplay']\n",
    "        like_count = top_comment['likeCount']\n",
    "        published_at = top_comment['publishedAt']\n",
    "\n",
    "        comments.append(Comment(snippet_id, author, text, like_count, published_at, None))\n",
    "    return comments"
   ]
  },
  {
   "cell_type": "code",
   "execution_count": 33,
   "id": "a49bb8ef-d42a-4e7a-b1c1-0735f07f1d43",
   "metadata": {},
   "outputs": [
    {
     "data": {
      "text/plain": [
       "[Comment(comment_id='UgzgrqctaRkXF0Ioydx4AaABAg', author='@MrBeast', text='BEAST GAMES FINALE DROPS FEBRUARY 13TH! GO WATCH THE REST NOW! <a href=\"https://unfur.ly/BeastGames\">https://unfur.ly/BeastGames</a>', like_count=58163, published_at='2025-02-08T16:59:31Z', parent_id=None),\n",
       " Comment(comment_id='Ugy9mNx9AEZtvO_rplh4AaABAg', author='@YouTube', text='تجربة أسطورية 🤯 مرحبًا بك في مصر! 🇪🇬', like_count=66804, published_at='2025-02-10T16:52:13Z', parent_id=None),\n",
       " Comment(comment_id='Ugx98WuRmVg8lEshD9l4AaABAg', author='@marwanrehan', text='As an Egyptian, this is the first time I see and hear about the things shown in this video! Honestly, this is one of the best videos you&#39;ve ever made. ❤❤', like_count=180409, published_at='2025-02-08T17:47:35Z', parent_id=None),\n",
       " Comment(comment_id='UgxVm6v87tAKMqFMTUh4AaABAg', author='@oShven', text='Doing what most cant and documenting it for the whole world to see. I LOVE IT <a href=\"UCkszU2WH9gy1mb0dV-11UJg/ePgfY-K2Kp6Mr8oP1oqAwAc\"></a>', like_count=69381, published_at='2025-02-08T17:27:00Z', parent_id=None),\n",
       " Comment(comment_id='UgyCUNCGaC8G2kIGgeR4AaABAg', author='@majlatv', text='هذه الحلقة هي الأقوى والأعظم بلا شك! فأنت في مصر… حيث وُلدت الحضارة قبل أن يُكتب التاريخ!', like_count=17193, published_at='2025-02-09T12:14:11Z', parent_id=None)]"
      ]
     },
     "execution_count": 33,
     "metadata": {},
     "output_type": "execute_result"
    }
   ],
   "source": [
    "video_id = 'NDsO1LT_0lw'\n",
    "response = get_top_level_comments(video_id)\n",
    "response[:5]"
   ]
  },
  {
   "cell_type": "code",
   "execution_count": 36,
   "id": "21e55ead-c084-43ac-9c53-a04b5b2859ea",
   "metadata": {},
   "outputs": [],
   "source": [
    "def get_replies(comment_id: str) -> List[Comment]:\n",
    "    url = 'https://www.googleapis.com/youtube/v3/comments'\n",
    "    params = {\n",
    "        'key': key,\n",
    "        'part': 'snippet',\n",
    "        'parentId': comment_id,\n",
    "        'maxResults': 100\n",
    "    }\n",
    "\n",
    "    replies: List[Comment] = []\n",
    "\n",
    "    while 1:\n",
    "        response = requests.get(url, params=params)\n",
    "        data = response.json()\n",
    "\n",
    "        for item in data.get('items', []):\n",
    "            snippet = item['snippet']\n",
    "            replies.append(Comment(\n",
    "                comment_id=item['id'],\n",
    "                author=snippet.get('authorDisplayName', ''),\n",
    "                text=snippet.get('textDisplay', ''),\n",
    "                like_count=snippet.get('likeCount', 0),\n",
    "                published_at=datetime.strptime(snippet['publishedAt'], \"%Y-%m-%dT%H:%M:%SZ\"),\n",
    "                parent_id=snippet.get('parentId')\n",
    "            ))\n",
    "\n",
    "        if 'nextPageToken' in data:\n",
    "            params['pageToken'] = data['nextPageToken']\n",
    "        else:\n",
    "            break\n",
    "\n",
    "    replies.sort(key=lambda c: c.like_count, reverse=True)\n",
    "    return replies"
   ]
  },
  {
   "cell_type": "code",
   "execution_count": 38,
   "id": "43501985-a2f4-4806-9fd4-f14f57cad015",
   "metadata": {},
   "outputs": [
    {
     "data": {
      "text/plain": [
       "[Comment(comment_id='UgzgrqctaRkXF0Ioydx4AaABAg.AEHxAWu37_NAEHxHWb93UL', author='@SirBhogerPlus', text='Already plan to!', like_count=606, published_at=datetime.datetime(2025, 2, 8, 17, 0, 28), parent_id='UgzgrqctaRkXF0Ioydx4AaABAg'),\n",
       " Comment(comment_id='UgzgrqctaRkXF0Ioydx4AaABAg.AEHxAWu37_NAEHxU9Ka3uH', author='@ayhamyt6143', text='LOL', like_count=352, published_at=datetime.datetime(2025, 2, 8, 17, 2, 12), parent_id='UgzgrqctaRkXF0Ioydx4AaABAg'),\n",
       " Comment(comment_id='UgzgrqctaRkXF0Ioydx4AaABAg.AEHxAWu37_NAEHxUIndd21', author='@Son_Harold', text='Yeah same<br>I love beast games ❤', like_count=276, published_at=datetime.datetime(2025, 2, 8, 17, 2, 13), parent_id='UgzgrqctaRkXF0Ioydx4AaABAg'),\n",
       " Comment(comment_id='UgzgrqctaRkXF0Ioydx4AaABAg.AEHxAWu37_NAEHxUi64FkV', author='@Revanftbl', text='Ok', like_count=143, published_at=datetime.datetime(2025, 2, 8, 17, 2, 16), parent_id='UgzgrqctaRkXF0Ioydx4AaABAg'),\n",
       " Comment(comment_id='UgzgrqctaRkXF0Ioydx4AaABAg.AEHxAWu37_NAEHxVEY6krb', author='@Edik_Vdle', text='Я легенда', like_count=129, published_at=datetime.datetime(2025, 2, 8, 17, 2, 20), parent_id='UgzgrqctaRkXF0Ioydx4AaABAg')]"
      ]
     },
     "execution_count": 38,
     "metadata": {},
     "output_type": "execute_result"
    }
   ],
   "source": [
    "response = get_replies('UgzgrqctaRkXF0Ioydx4AaABAg')\n",
    "response[:5]"
   ]
  },
  {
   "cell_type": "code",
   "execution_count": 39,
   "id": "2010765f-d481-4550-9005-458e8cea64e3",
   "metadata": {},
   "outputs": [
    {
     "name": "stdout",
     "output_type": "stream",
     "text": [
      "{'neg': 0.0, 'neu': 1.0, 'pos': 0.0, 'compound': 0.0}\n"
     ]
    },
    {
     "name": "stderr",
     "output_type": "stream",
     "text": [
      "[nltk_data] Downloading package vader_lexicon to\n",
      "[nltk_data]     /home/ltera/nltk_data...\n",
      "[nltk_data]   Package vader_lexicon is already up-to-date!\n"
     ]
    }
   ],
   "source": [
    "import nltk\n",
    "nltk.download('vader_lexicon')\n",
    "from nltk.sentiment import SentimentIntensityAnalyzer\n",
    "\n",
    "sia = SentimentIntensityAnalyzer()\n",
    "text = \"test\"\n",
    "score = sia.polarity_scores(text)\n",
    "\n",
    "print(score)"
   ]
  },
  {
   "cell_type": "code",
   "execution_count": null,
   "id": "66365349-0f03-4a43-b0d0-7c808e945d06",
   "metadata": {},
   "outputs": [],
   "source": []
  }
 ],
 "metadata": {
  "kernelspec": {
   "display_name": "ytc-venv",
   "language": "python",
   "name": "venv"
  },
  "language_info": {
   "codemirror_mode": {
    "name": "ipython",
    "version": 3
   },
   "file_extension": ".py",
   "mimetype": "text/x-python",
   "name": "python",
   "nbconvert_exporter": "python",
   "pygments_lexer": "ipython3",
   "version": "3.13.3"
  }
 },
 "nbformat": 4,
 "nbformat_minor": 5
}
