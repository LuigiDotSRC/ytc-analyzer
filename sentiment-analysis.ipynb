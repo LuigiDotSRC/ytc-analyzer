{
 "cells": [
  {
   "cell_type": "code",
   "execution_count": 1,
   "id": "58a48db3-c3e6-4420-a721-b191e9d66790",
   "metadata": {},
   "outputs": [],
   "source": [
    "from dotenv import load_dotenv\n",
    "load_dotenv()\n",
    "\n",
    "import os\n",
    "key = os.getenv('GOOGLE_API_KEY')"
   ]
  },
  {
   "cell_type": "code",
   "execution_count": 2,
   "id": "87adfe11-05c2-4b9c-9c76-1903e2d05ebe",
   "metadata": {},
   "outputs": [],
   "source": [
    "from dataclasses import dataclass\n",
    "from datetime import datetime\n",
    "from typing import Optional\n",
    "\n",
    "@dataclass\n",
    "class Comment:\n",
    "    comment_id: str\n",
    "    author: str\n",
    "    text: str\n",
    "    like_count: int\n",
    "    published_at: datetime\n",
    "    parent_id: Optional[str]"
   ]
  },
  {
   "cell_type": "code",
   "execution_count": 3,
   "id": "1081b2b8-93b6-440c-a120-795c9f88e789",
   "metadata": {},
   "outputs": [],
   "source": [
    "import requests\n",
    "from typing import List\n",
    "\n",
    "def get_top_level_comments(video_id) -> List[Comment]:\n",
    "    url = 'https://www.googleapis.com/youtube/v3/commentThreads'\n",
    "    order = 'relevance'\n",
    "    params = {\n",
    "        'key': key,\n",
    "        'part': 'snippet',\n",
    "        'videoId': video_id,\n",
    "        'maxResults': 100,\n",
    "        'order': order,\n",
    "    }\n",
    "    \n",
    "    comments = []\n",
    "    response = requests.get(url, params=params)\n",
    "    data = response.json()\n",
    "    for item in data['items']:\n",
    "        top_comment = item['snippet']['topLevelComment']['snippet']\n",
    "        snippet_id = item['id']\n",
    "        author = top_comment['authorDisplayName']\n",
    "        text = top_comment['textDisplay']\n",
    "        like_count = top_comment['likeCount']\n",
    "        published_at = top_comment['publishedAt']\n",
    "\n",
    "        comments.append(Comment(snippet_id, author, text, like_count, published_at, None))\n",
    "    return comments"
   ]
  },
  {
   "cell_type": "code",
   "execution_count": 4,
   "id": "a49bb8ef-d42a-4e7a-b1c1-0735f07f1d43",
   "metadata": {},
   "outputs": [
    {
     "data": {
      "text/plain": [
       "[Comment(comment_id='UgzgrqctaRkXF0Ioydx4AaABAg', author='@MrBeast', text='BEAST GAMES FINALE DROPS FEBRUARY 13TH! GO WATCH THE REST NOW! <a href=\"https://unfur.ly/BeastGames\">https://unfur.ly/BeastGames</a>', like_count=58166, published_at='2025-02-08T16:59:31Z', parent_id=None),\n",
       " Comment(comment_id='Ugy9mNx9AEZtvO_rplh4AaABAg', author='@YouTube', text='تجربة أسطورية 🤯 مرحبًا بك في مصر! 🇪🇬', like_count=66808, published_at='2025-02-10T16:52:13Z', parent_id=None),\n",
       " Comment(comment_id='Ugx98WuRmVg8lEshD9l4AaABAg', author='@marwanrehan', text='As an Egyptian, this is the first time I see and hear about the things shown in this video! Honestly, this is one of the best videos you&#39;ve ever made. ❤❤', like_count=180420, published_at='2025-02-08T17:47:35Z', parent_id=None),\n",
       " Comment(comment_id='UgxVm6v87tAKMqFMTUh4AaABAg', author='@oShven', text='Doing what most cant and documenting it for the whole world to see. I LOVE IT <a href=\"UCkszU2WH9gy1mb0dV-11UJg/ePgfY-K2Kp6Mr8oP1oqAwAc\"></a>', like_count=69382, published_at='2025-02-08T17:27:00Z', parent_id=None),\n",
       " Comment(comment_id='UgyCUNCGaC8G2kIGgeR4AaABAg', author='@majlatv', text='هذه الحلقة هي الأقوى والأعظم بلا شك! فأنت في مصر… حيث وُلدت الحضارة قبل أن يُكتب التاريخ!', like_count=17196, published_at='2025-02-09T12:14:11Z', parent_id=None)]"
      ]
     },
     "execution_count": 4,
     "metadata": {},
     "output_type": "execute_result"
    }
   ],
   "source": [
    "# video_id = 'NDsO1LT_0lw' # mr beast\n",
    "video_id = 'YbJOTdZBX1g' # yt rewind 2018\n",
    "\n",
    "top_level_comments = get_top_level_comments(video_id)\n",
    "top_level_comments[:5]"
   ]
  },
  {
   "cell_type": "code",
   "execution_count": 5,
   "id": "21e55ead-c084-43ac-9c53-a04b5b2859ea",
   "metadata": {},
   "outputs": [],
   "source": [
    "def get_replies(comment_id: str) -> List[Comment]:\n",
    "    url = 'https://www.googleapis.com/youtube/v3/comments'\n",
    "    params = {\n",
    "        'key': key,\n",
    "        'part': 'snippet',\n",
    "        'parentId': comment_id,\n",
    "        'maxResults': 100\n",
    "    }\n",
    "\n",
    "    replies: List[Comment] = []\n",
    "\n",
    "    while 1:\n",
    "        response = requests.get(url, params=params)\n",
    "        data = response.json()\n",
    "\n",
    "        for item in data.get('items', []):\n",
    "            snippet = item['snippet']\n",
    "            replies.append(Comment(\n",
    "                comment_id=item['id'],\n",
    "                author=snippet.get('authorDisplayName', ''),\n",
    "                text=snippet.get('textDisplay', ''),\n",
    "                like_count=snippet.get('likeCount', 0),\n",
    "                published_at=datetime.strptime(snippet['publishedAt'], \"%Y-%m-%dT%H:%M:%SZ\"),\n",
    "                parent_id=snippet.get('parentId')\n",
    "            ))\n",
    "\n",
    "        if 'nextPageToken' in data:\n",
    "            params['pageToken'] = data['nextPageToken']\n",
    "        else:\n",
    "            break\n",
    "\n",
    "    replies.sort(key=lambda c: c.like_count, reverse=True)\n",
    "    return replies"
   ]
  },
  {
   "cell_type": "code",
   "execution_count": 6,
   "id": "2010765f-d481-4550-9005-458e8cea64e3",
   "metadata": {},
   "outputs": [
    {
     "name": "stdout",
     "output_type": "stream",
     "text": [
      "{'neg': 0.0, 'neu': 1.0, 'pos': 0.0, 'compound': 0.0}\n"
     ]
    },
    {
     "name": "stderr",
     "output_type": "stream",
     "text": [
      "[nltk_data] Downloading package vader_lexicon to\n",
      "[nltk_data]     /home/ltera/nltk_data...\n",
      "[nltk_data]   Package vader_lexicon is already up-to-date!\n"
     ]
    }
   ],
   "source": [
    "import nltk\n",
    "nltk.download('vader_lexicon')\n",
    "from nltk.sentiment import SentimentIntensityAnalyzer\n",
    "\n",
    "sia = SentimentIntensityAnalyzer()\n",
    "text = \"test\"\n",
    "score = sia.polarity_scores(text)\n",
    "\n",
    "print(score)"
   ]
  },
  {
   "cell_type": "code",
   "execution_count": 7,
   "id": "46ed617d-5699-4211-9f57-7f8c3c470c0a",
   "metadata": {},
   "outputs": [],
   "source": [
    "import html\n",
    "import re\n",
    "from googletrans import Translator\n",
    "from langdetect import detect\n",
    "\n",
    "async def text_cleanup(text):\n",
    "    text = html.unescape(text)  # decode HTML entities\n",
    "    text = re.sub(r'@\\w+', '', text)  # remove @mentions\n",
    "\n",
    "    translator = Translator()\n",
    "\n",
    "    try:\n",
    "        if detect(text) != 'en':\n",
    "            translation = await translator.translate(text, dest='en')\n",
    "            text = translation.text\n",
    "    except Exception:\n",
    "        pass \n",
    "\n",
    "    text = re.sub(r'[^\\x00-\\x7F]+', '', text)  # remove emojis\n",
    "    text = re.sub(r'[^a-zA-Z,\\s]', '', text)  # remove non-alpha except commas and space\n",
    "    text = re.sub(r'\\s+', ' ', text)  # normalize spacing\n",
    "\n",
    "    return text.strip()"
   ]
  },
  {
   "cell_type": "code",
   "execution_count": 8,
   "id": "66365349-0f03-4a43-b0d0-7c808e945d06",
   "metadata": {},
   "outputs": [
    {
     "name": "stdout",
     "output_type": "stream",
     "text": [
      "Comment(comment_id='Ugy9mNx9AEZtvO_rplh4AaABAg', author='@YouTube', text='تجربة أسطورية 🤯 مرحبًا بك في مصر! 🇪🇬', like_count=66808, published_at='2025-02-10T16:52:13Z', parent_id=None)\n"
     ]
    },
    {
     "data": {
      "text/plain": [
       "<coroutine object analyze_comment_sentiment at 0x7fb26fa99be0>"
      ]
     },
     "execution_count": 8,
     "metadata": {},
     "output_type": "execute_result"
    }
   ],
   "source": [
    "import asyncio\n",
    "\n",
    "async def analyze_comment_sentiment(comment):\n",
    "    preprocessed_text = await text_cleanup(comment.text)\n",
    "    return sia.polarity_scores(preprocessed_text)\n",
    "\n",
    "print(top_level_comments[1])\n",
    "analyze_comment_sentiment(top_level_comments[1])"
   ]
  },
  {
   "cell_type": "code",
   "execution_count": 15,
   "id": "af369af5-7e0e-45cf-b6d0-14cf64c17808",
   "metadata": {},
   "outputs": [
    {
     "name": "stdout",
     "output_type": "stream",
     "text": [
      "NEUTRAL: Comment(comment_id='UgzgrqctaRkXF0Ioydx4AaABAg', author='@MrBeast', text='BEAST GAMES FINALE DROPS FEBRUARY 13TH! GO WATCH THE REST NOW! <a href=\"https://unfur.ly/BeastGames\">https://unfur.ly/BeastGames</a>', like_count=58166, published_at='2025-02-08T16:59:31Z', parent_id=None)\n",
      "{'neg': 0.0, 'neu': 1.0, 'pos': 0.0, 'compound': 0.0}\n",
      "\n",
      "POSITIVE: Comment(comment_id='Ugy9mNx9AEZtvO_rplh4AaABAg', author='@YouTube', text='تجربة أسطورية 🤯 مرحبًا بك في مصر! 🇪🇬', like_count=66808, published_at='2025-02-10T16:52:13Z', parent_id=None)\n",
      "{'neg': 0.0, 'neu': 0.571, 'pos': 0.429, 'compound': 0.4588}\n",
      "\n",
      "POSITIVE: Comment(comment_id='Ugx98WuRmVg8lEshD9l4AaABAg', author='@marwanrehan', text='As an Egyptian, this is the first time I see and hear about the things shown in this video! Honestly, this is one of the best videos you&#39;ve ever made. ❤❤', like_count=180420, published_at='2025-02-08T17:47:35Z', parent_id=None)\n",
      "{'neg': 0.0, 'neu': 0.789, 'pos': 0.211, 'compound': 0.802}\n",
      "\n",
      "POSITIVE: Comment(comment_id='UgxVm6v87tAKMqFMTUh4AaABAg', author='@oShven', text='Doing what most cant and documenting it for the whole world to see. I LOVE IT <a href=\"UCkszU2WH9gy1mb0dV-11UJg/ePgfY-K2Kp6Mr8oP1oqAwAc\"></a>', like_count=69382, published_at='2025-02-08T17:27:00Z', parent_id=None)\n",
      "{'neg': 0.0, 'neu': 0.753, 'pos': 0.247, 'compound': 0.7125}\n",
      "\n",
      "POSITIVE: Comment(comment_id='UgyCUNCGaC8G2kIGgeR4AaABAg', author='@majlatv', text='هذه الحلقة هي الأقوى والأعظم بلا شك! فأنت في مصر… حيث وُلدت الحضارة قبل أن يُكتب التاريخ!', like_count=17196, published_at='2025-02-09T12:14:11Z', parent_id=None)\n",
      "{'neg': 0.0, 'neu': 0.738, 'pos': 0.262, 'compound': 0.7964}\n",
      "\n",
      "POSITIVE: Comment(comment_id='UgybJ2GWiQybtH80Kyp4AaABAg', author='@Hosamart', text='بجد فخور جدااا بحضارتنا وزعلان علي تقدير واستغلال غيرنا حاجات موجوده قدامنا كل يوم ♥️', like_count=14701, published_at='2025-02-08T19:44:17Z', parent_id=None)\n",
      "{'neg': 0.06, 'neu': 0.704, 'pos': 0.236, 'compound': 0.7178}\n",
      "\n",
      "POSITIVE: Comment(comment_id='Ugwub4CONf0LGIGywbF4AaABAg', author='@georgehorn4718', text='We need an extended cut of this, must be hours worth of cool content', like_count=42046, published_at='2025-02-08T21:44:51Z', parent_id=None)\n",
      "{'neg': 0.121, 'neu': 0.636, 'pos': 0.243, 'compound': 0.2732}\n",
      "\n",
      "POSITIVE: Comment(comment_id='UgzAeeJ6e5xUI5_31Zx4AaABAg', author='@shonemanoj0712', text='A fantastic video which shares so much knowledge 🤯. This content is absolutely magnificent,   first time seeing the pyramids from inside. 🤯', like_count=20, published_at='2025-06-05T13:52:48Z', parent_id=None)\n",
      "{'neg': 0.0, 'neu': 0.616, 'pos': 0.384, 'compound': 0.8748}\n",
      "\n",
      "POSITIVE: Comment(comment_id='UgzCAI7BOTJbiQql_b94AaABAg', author='@Elstraly2', text='أنا كمصري لم أر كل هذه  الأشياء شكرا لك جيمي علي مقطعك الرئع', like_count=7940, published_at='2025-02-08T21:21:29Z', parent_id=None)\n",
      "{'neg': 0.0, 'neu': 0.708, 'pos': 0.292, 'compound': 0.7351}\n",
      "\n",
      "POSITIVE: Comment(comment_id='UgyW2JmuY3lng80mm0F4AaABAg', author='@ElhusseinyWagehOfficial', text='This was such an incredible adventure to watch! As an Egyptian, I love seeing the beauty and mystery of our pyramids being appreciated in such a unique way. The effort and dedication you and your team put into this experience are truly impressive! Thanks for sharing this amazing journey with the world!❤', like_count=6315, published_at='2025-02-08T18:56:36Z', parent_id=None)\n",
      "{'neg': 0.0, 'neu': 0.577, 'pos': 0.423, 'compound': 0.9834}\n",
      "\n"
     ]
    }
   ],
   "source": [
    "pnng = [0]*3\n",
    "n = 10 # only output first n comments\n",
    "\n",
    "for comment in top_level_comments:\n",
    "    score = await analyze_comment_sentiment(comment)\n",
    "    if score['pos'] > score['neg']:\n",
    "        sentiment = 'POSITIVE'\n",
    "        pnng[0] += 1\n",
    "    elif score['neg'] > score['pos']:\n",
    "        sentiment = 'NEGATIVE'\n",
    "        pnng[2] += 1\n",
    "    else:\n",
    "        sentiment = 'NEUTRAL'\n",
    "        pnng[1] += 1\n",
    "\n",
    "    if n > 0:\n",
    "        print(f'{sentiment}: {comment}\\n{score}\\n')\n",
    "\n",
    "    n -= 1"
   ]
  },
  {
   "cell_type": "code",
   "execution_count": 20,
   "id": "c6e3d942-d8ee-40ba-8905-8f405d5e0eff",
   "metadata": {},
   "outputs": [
    {
     "name": "stdout",
     "output_type": "stream",
     "text": [
      "[82, 15, 3]\n"
     ]
    },
    {
     "data": {
      "image/png": "[encoded data removed]",
      "text/plain": [
       "<Figure size 640x480 with 1 Axes>"
      ]
     },
     "metadata": {},
     "output_type": "display_data"
    }
   ],
   "source": [
    "import matplotlib.pyplot as plt\n",
    "\n",
    "labels = 'Positive', 'Neutral', 'Negative'\n",
    "fig, ax = plt.subplots()\n",
    "ax.pie(pnng, labels=labels, autopct='%1.1f%%', colors=['deepskyblue','slategray','orangered'])\n",
    "print(pnng)"
   ]
  },
  {
   "cell_type": "code",
   "execution_count": 10,
   "id": "575499f1-03f2-4aca-af9f-6ccb8b12197d",
   "metadata": {},
   "outputs": [],
   "source": [
    "from langchain_openai import ChatOpenAI\n",
    "from langchain_core.prompts import ChatPromptTemplate\n",
    "from langchain.chains.combine_documents import create_stuff_documents_chain\n",
    "from langchain_core.documents import Document\n",
    "\n",
    "def openai_summarize(comments):\n",
    "    docs = [Document(page_content=comment.text) for comment in comments]\n",
    "    \n",
    "    prompt = ChatPromptTemplate.from_messages(\n",
    "        [(\"system\", \"Write a summary of the following youtube comments. Highlight specific comments and preserve user sentiment:\\\\n\\\\n{context}\")]\n",
    "    )\n",
    "    \n",
    "    llm = ChatOpenAI(model_name=\"gpt-4\", temperature=0.5)\n",
    "    chain = create_stuff_documents_chain(llm, prompt)\n",
    "\n",
    "    result = chain.invoke({\"context\": docs})\n",
    "    \n",
    "    return result"
   ]
  },
  {
   "cell_type": "code",
   "execution_count": 11,
   "id": "581b273d-3761-46bf-ba40-ed9e7d86a77f",
   "metadata": {},
   "outputs": [
    {
     "name": "stdout",
     "output_type": "stream",
     "text": [
      "The comments are overwhelmingly positive and appreciative of the video showcasing the inside of the pyramids in Egypt. Many Egyptians expressed pride in their history and civilization and thanked the creators for their effort in making the video. Some users wished for an extended cut of the video, as they found the content fascinating. There were also requests for similar content exploring other significant historical sites. Some users joked about the creators exploring Area 51 next. A few comments pointed out that this video was a perfect example of how money can provide access to exclusive experiences. Overall, the video was praised for its quality, with many calling it one of the best videos the creators have ever made.\n"
     ]
    }
   ],
   "source": [
    "s = False\n",
    "if s:\n",
    "    summary = openai_summarize(top_level_comments)\n",
    "    print(summary)"
   ]
  }
 ],
 "metadata": {
  "kernelspec": {
   "display_name": "ytc-venv",
   "language": "python",
   "name": "venv"
  },
  "language_info": {
   "codemirror_mode": {
    "name": "ipython",
    "version": 3
   },
   "file_extension": ".py",
   "mimetype": "text/x-python",
   "name": "python",
   "nbconvert_exporter": "python",
   "pygments_lexer": "ipython3",
   "version": "3.13.3"
  }
 },
 "nbformat": 4,
 "nbformat_minor": 5
}
