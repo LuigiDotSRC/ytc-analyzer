{
 "cells": [
  {
   "cell_type": "code",
   "execution_count": 7,
   "id": "58a48db3-c3e6-4420-a721-b191e9d66790",
   "metadata": {},
   "outputs": [],
   "source": [
    "from dotenv import load_dotenv\n",
    "load_dotenv()\n",
    "\n",
    "import os\n",
    "key = os.getenv('GOOGLE_API_KEY')"
   ]
  },
  {
   "cell_type": "code",
   "execution_count": 14,
   "id": "1081b2b8-93b6-440c-a120-795c9f88e789",
   "metadata": {},
   "outputs": [
    {
     "name": "stdout",
     "output_type": "stream",
     "text": [
      "200\n"
     ]
    }
   ],
   "source": [
    "import requests\n",
    "\n",
    "url = 'https://www.googleapis.com/youtube/v3/commentThreads'\n",
    "video_id = 'NDsO1LT_0lw'\n",
    "params = {\n",
    "    'key': key,\n",
    "    'part': 'snippet,replies',\n",
    "    'videoId': video_id,\n",
    "    'max_Results': 100,\n",
    "    'order': 'time',\n",
    "}\n",
    "\n",
    "response = requests.get(url, params=params)\n",
    "print(response.status_code)"
   ]
  },
  {
   "cell_type": "code",
   "execution_count": 15,
   "id": "c2da2e94-669e-4ecb-a437-886d9cb83377",
   "metadata": {},
   "outputs": [
    {
     "name": "stdout",
     "output_type": "stream",
     "text": [
      "@MrBeast: BEAST GAMES FINALE DROPS FEBRUARY 13TH! GO WATCH THE REST NOW! <a href=\"https://unfur.ly/BeastGames\">https://unfur.ly/BeastGames</a>\n",
      "@Victork7xzSantosxZ-m5b: 🎉\n",
      "@RoshanKokani-h9k: <a href=\"https://www.youtube.com/watch?v=NDsO1LT_0lw&amp;t=1302\">21:42</a>  wow superb\n",
      "@Theshadows57: الحلقة بدت مملة بالسبب تغير أصواتهم جميعا\n",
      "@ElifEla-j4u: Omg\n",
      "@Leo-x5t6v: Io o studiato gli Egizi😂❤❤\n",
      "@MoonLight_Dry: Come To TURKEY BRO\n",
      "@Hosam736: سأسرقوا الذهب\n",
      "@gajananmohekar4897: Marathi madhe kon baghtay❤\n",
      "@dhanushkuttan-nr5ys: Tamil 😮\n",
      "@JasperRobinson-u9f: ชบาน\n",
      "@JasperRobinson-u9f: Hey I’m a subscriber\n",
      "@ramazanozer8371: Erownie yi banlama\n",
      "@NabeelAhmad-o5b: Kia kh Ra ho tum\n",
      "@SumayaSultana-ec9ks: Watch from Bangladesh 🇧🇩\n",
      "@Rakibkhan-lb5bq: Big fane boss<br>From Bangladesh 🇧🇩\n",
      "@mift5: We demand a series of tours in Iraq\n",
      "@Ангелина-л5д8в: Вы тоже с тик тока?))(\n",
      "@WretchedOgre: Those pyramids were looted bare!! Empty rooms that used to be resting places. They have already been disrespected.\n",
      "@NarjiaHasanJarin: Such an amazing video really really loved it\n"
     ]
    }
   ],
   "source": [
    "if response.status_code != 200:\n",
    "    print(f'Error: {response.status_code}, {response.text}')\n",
    "else:\n",
    "    data = response.json()\n",
    "    for item in data['items']:\n",
    "        top_comment = item['snippet']['topLevelComment']['snippet']\n",
    "        author = top_comment['authorDisplayName']\n",
    "        text = top_comment['textDisplay']\n",
    "        print(f'{author}: {text}')"
   ]
  },
  {
   "cell_type": "code",
   "execution_count": null,
   "id": "7c9a4b11-6106-49a6-90ab-dcbf3ed8a2e3",
   "metadata": {},
   "outputs": [],
   "source": [
    "# preprocessing challenges:\n",
    "# - must translate non-english comments to english\n",
    "# - must remove stopwords and emjois?"
   ]
  }
 ],
 "metadata": {
  "kernelspec": {
   "display_name": "ytc-venv",
   "language": "python",
   "name": "venv"
  },
  "language_info": {
   "codemirror_mode": {
    "name": "ipython",
    "version": 3
   },
   "file_extension": ".py",
   "mimetype": "text/x-python",
   "name": "python",
   "nbconvert_exporter": "python",
   "pygments_lexer": "ipython3",
   "version": "3.13.3"
  }
 },
 "nbformat": 4,
 "nbformat_minor": 5
}
