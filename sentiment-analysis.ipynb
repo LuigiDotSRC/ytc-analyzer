{
 "cells": [
  {
   "cell_type": "code",
   "execution_count": 1,
   "id": "58a48db3-c3e6-4420-a721-b191e9d66790",
   "metadata": {},
   "outputs": [],
   "source": [
    "from dotenv import load_dotenv\n",
    "load_dotenv()\n",
    "\n",
    "import os\n",
    "key = os.getenv('GOOGLE_API_KEY')"
   ]
  },
  {
   "cell_type": "code",
   "execution_count": 2,
   "id": "1081b2b8-93b6-440c-a120-795c9f88e789",
   "metadata": {},
   "outputs": [
    {
     "name": "stdout",
     "output_type": "stream",
     "text": [
      "200\n"
     ]
    }
   ],
   "source": [
    "import requests\n",
    "\n",
    "url = 'https://www.googleapis.com/youtube/v3/commentThreads'\n",
    "video_id = 'NDsO1LT_0lw'\n",
    "order = 'relevance'\n",
    "params = {\n",
    "    'key': key,\n",
    "    'part': 'snippet,replies',\n",
    "    'videoId': video_id,\n",
    "    'max_Results': 100,\n",
    "    'order': order,\n",
    "}\n",
    "\n",
    "response = requests.get(url, params=params)\n",
    "print(response.status_code)"
   ]
  },
  {
   "cell_type": "code",
   "execution_count": 3,
   "id": "c2da2e94-669e-4ecb-a437-886d9cb83377",
   "metadata": {},
   "outputs": [],
   "source": [
    "def print_comments(response):\n",
    "    data = response.json()\n",
    "    for item in data['items']:\n",
    "        top_comment = item['snippet']['topLevelComment']['snippet']\n",
    "        snippet_id = item['id']\n",
    "        author = top_comment['authorDisplayName']\n",
    "        text = top_comment['textDisplay']\n",
    "        print(f'{author} [{snippet_id}]: \\n{text}\\n')"
   ]
  },
  {
   "cell_type": "code",
   "execution_count": 4,
   "id": "729821d6-02be-45d1-931a-300e784b5827",
   "metadata": {},
   "outputs": [
    {
     "name": "stdout",
     "output_type": "stream",
     "text": [
      "@MrBeast [UgzgrqctaRkXF0Ioydx4AaABAg]: \n",
      "BEAST GAMES FINALE DROPS FEBRUARY 13TH! GO WATCH THE REST NOW! <a href=\"https://unfur.ly/BeastGames\">https://unfur.ly/BeastGames</a>\n",
      "\n",
      "@marwanrehan [Ugx98WuRmVg8lEshD9l4AaABAg]: \n",
      "As an Egyptian, this is the first time I see and hear about the things shown in this video! Honestly, this is one of the best videos you&#39;ve ever made. ❤❤\n",
      "\n",
      "@YouTube [Ugy9mNx9AEZtvO_rplh4AaABAg]: \n",
      "تجربة أسطورية 🤯 مرحبًا بك في مصر! 🇪🇬\n",
      "\n",
      "@oShven [UgxVm6v87tAKMqFMTUh4AaABAg]: \n",
      "Doing what most cant and documenting it for the whole world to see. I LOVE IT <a href=\"UCkszU2WH9gy1mb0dV-11UJg/ePgfY-K2Kp6Mr8oP1oqAwAc\"></a>\n",
      "\n",
      "@georgehorn4718 [Ugwub4CONf0LGIGywbF4AaABAg]: \n",
      "We need an extended cut of this, must be hours worth of cool content\n",
      "\n",
      "@majlatv [UgyCUNCGaC8G2kIGgeR4AaABAg]: \n",
      "هذه الحلقة هي الأقوى والأعظم بلا شك! فأنت في مصر… حيث وُلدت الحضارة قبل أن يُكتب التاريخ!\n",
      "\n",
      "@Hosamart [UgybJ2GWiQybtH80Kyp4AaABAg]: \n",
      "بجد فخور جدااا بحضارتنا وزعلان علي تقدير واستغلال غيرنا حاجات موجوده قدامنا كل يوم ♥️\n",
      "\n",
      "@isabellajessesalazar8894 [UgyuybEsuJ0cMfDEmQx4AaABAg]: \n",
      "I just realized that we just explored the insides of the pyramids FOR FREE\n",
      "\n",
      "@mohamedgamal6775 [Ugzwe1D2KmjFnJ6Y-mN4AaABAg]: \n",
      "I&#39;m Egyptian and this is the first time to see this magical footage inside our pyramids, thank you for this effort and you are welcome any time in Egypt 🇪🇬 ❤\n",
      "\n",
      "@stenleesmann2300 [UgwZfwW30tj9MhhcHKd4AaABAg]: \n",
      "This is special. Exactly how privileged access should be used and shared.\n",
      "\n",
      "@ElhusseinyWagehOfficial [UgyW2JmuY3lng80mm0F4AaABAg]: \n",
      "This was such an incredible adventure to watch! As an Egyptian, I love seeing the beauty and mystery of our pyramids being appreciated in such a unique way. The effort and dedication you and your team put into this experience are truly impressive! Thanks for sharing this amazing journey with the world!❤\n",
      "\n",
      "@살며사랑하며-g6t [Ugz1kzGc3k7IK67xsvt4AaABAg]: \n",
      "미스터 비스트 동영상을 이제까지 별로 신경 안썼는데 피라미드 통제구역에까지 갔다왔다는 걸 듣고 들어왔어요. 아이들이나 보는 채널이라 생각하고 보지는 않았는데 이번 비디오는 정말 좋았어요! 세계 문화유산 답사 동영상을 더 만들어 줄 수 있나요? 보통 관광객이 갈 수 없는 곳까지요. 흥미진진하네요.\n",
      "\n",
      "@whostammam [Ugwy_LVNkUx_lalVO7R4AaABAg]: \n",
      "ok this is by far the coolest vid you&#39;ve ever made\n",
      "\n",
      "@zackwindisch1595 [UgxTldLFJsnjGm07D6R4AaABAg]: \n",
      "These Egyptian dudes are awesome 😄\n",
      "\n",
      "@abizard8852 [UgxbxIuQA0Y8lA9wkeN4AaABAg]: \n",
      "The Egyptian guys were so funny, warm and engaging. Really made this video even more enjoyable.\n",
      "\n",
      "@Gonzo4Ever [UgynvhYT2X9gprwKQAR4AaABAg]: \n",
      "This actually the best video about the pyramids ever\n",
      "\n",
      "@Woocie [UgzGJtITuVBSRccYDv14AaABAg]: \n",
      "Next video “I Spent 100 Hours In Area 51!”\n",
      "\n",
      "@Elstraly2 [UgzCAI7BOTJbiQql_b94AaABAg]: \n",
      "أنا كمصري لم أر كل هذه  الأشياء شكرا لك جيمي علي مقطعك الرئع\n",
      "\n",
      "@MariamKamal-l7u [Ugzj23DVLLoNMetHYqR4AaABAg]: \n",
      "As an Egyptian obsessed with Egyptian history, I find this very wonderful. Thank you for this nice experience.\n",
      "\n",
      "@AidanHughes-ny8ju [UgykU5TN3y5AiPgN6qh4AaABAg]: \n",
      "Just casually says &quot;I somehow have unrestricted access!&quot; Is great\n",
      "\n"
     ]
    }
   ],
   "source": [
    "print_comments(response)"
   ]
  },
  {
   "cell_type": "code",
   "execution_count": 5,
   "id": "7c9a4b11-6106-49a6-90ab-dcbf3ed8a2e3",
   "metadata": {},
   "outputs": [],
   "source": [
    "# preprocessing challenges:\n",
    "# - must translate non-english comments to english\n",
    "# - must remove stopwords and emjois?"
   ]
  },
  {
   "cell_type": "code",
   "execution_count": 6,
   "id": "21e55ead-c084-43ac-9c53-a04b5b2859ea",
   "metadata": {},
   "outputs": [],
   "source": [
    "def get_replies(comment_id):\n",
    "    url = 'https://www.googleapis.com/youtube/v3/comments'\n",
    "    params = {\n",
    "        'key': key,\n",
    "        'part': 'snippet',\n",
    "        'parentId': comment_id,\n",
    "        'maxResults': 100\n",
    "    }\n",
    "\n",
    "    replies = []\n",
    "    while 1:\n",
    "        response = requests.get(url, params=params)\n",
    "        data = response.json()\n",
    "        replies.extend(data.get('items', []))\n",
    "        \n",
    "        if 'nextPageToken' in data:\n",
    "            params['pageToken'] = data['nextPageToken']\n",
    "        else:\n",
    "            break\n",
    "\n",
    "    # Sort replies by likeCount in descending order\n",
    "    sorted_replies = sorted(replies, key=lambda x: x['snippet']['likeCount'], reverse=True)\n",
    "    return sorted_replies"
   ]
  },
  {
   "cell_type": "code",
   "execution_count": 7,
   "id": "43501985-a2f4-4806-9fd4-f14f57cad015",
   "metadata": {},
   "outputs": [],
   "source": [
    "response = get_replies('UgzgrqctaRkXF0Ioydx4AaABAg')"
   ]
  },
  {
   "cell_type": "code",
   "execution_count": 8,
   "id": "7936c9de-cb11-453a-b320-b9d6aff6371b",
   "metadata": {
    "scrolled": true
   },
   "outputs": [
    {
     "name": "stdout",
     "output_type": "stream",
     "text": [
      "@SirBhogerPlus L:605: Already plan to!\n",
      "@ayhamyt6143 L:352: LOL\n",
      "@Son_Harold L:276: Yeah same\n",
      "I love beast games ❤\n",
      "@Revanftbl L:143: Ok\n",
      "@Edik_Vdle L:129: Я легенда\n",
      "@ayhamyt6143 L:117: ❤\n",
      "@Aabdul-RehmanN L:100: ✍️🔥\n",
      "@BramVanGroezen L:98: Okay mrbeast\n",
      "@90bands-gambling L:73: Yass\n",
      "@FlexingBot L:50: ayeeeee\n",
      "@abdulkadrelmuhtedy313 L:49: عطينا شي ايفون او 10الف دولار❤\n",
      "@Vortex-k7c L:47: Cool\n",
      "@MhmdMhmd-lg6wo L:47: Mrbeast🎉🎉 your the beast🎉\n",
      "@Zenariks L:40: Привет зверь\n",
      "@THEMURATADAMDIR L:37: efsanevi\n",
      "@ALORMESSAGE L:36: 🎉🎉\n",
      "@URalivai L:35: I am in 🇧🇩🇧🇩🇧🇩\n",
      "@Jay.Shri.ram. L:32: 🎉❤\n",
      "@raphaelaginam5264 L:27: Sup beast\n",
      "@NohchiYT444 L:26: 3\n",
      "@Abdurahmon-King L:23: 🎉\n",
      "@pkrpro L:23: Love from Pakistan\n",
      "@ayhamyt6143 L:23: 🐐\n",
      "@Spiderman27360 L:22: How did bro manage to pull this off…\n",
      "@ReaalFuturePulse L:21: YEss\n",
      "@ptsplzfriendme1210 L:20: W\n",
      "@Monkey-SG L:18: Ok\n",
      "@realstonksofficial L:16: hello :D\n",
      "@Jay.Shri.ram. L:15: 🚩🚩🚩\n",
      "@arnavs7578 L:15: Love you\n"
     ]
    }
   ],
   "source": [
    "for item in response[:30]:\n",
    "    user_id = item['snippet']['authorDisplayName']\n",
    "    text = item['snippet']['textOriginal']\n",
    "    likes = item['snippet']['likeCount']\n",
    "\n",
    "    print(f'{user_id} L:{likes}: {text}')"
   ]
  },
  {
   "cell_type": "code",
   "execution_count": null,
   "id": "2010765f-d481-4550-9005-458e8cea64e3",
   "metadata": {},
   "outputs": [],
   "source": []
  }
 ],
 "metadata": {
  "kernelspec": {
   "display_name": "ytc-venv",
   "language": "python",
   "name": "venv"
  },
  "language_info": {
   "codemirror_mode": {
    "name": "ipython",
    "version": 3
   },
   "file_extension": ".py",
   "mimetype": "text/x-python",
   "name": "python",
   "nbconvert_exporter": "python",
   "pygments_lexer": "ipython3",
   "version": "3.13.3"
  }
 },
 "nbformat": 4,
 "nbformat_minor": 5
}
