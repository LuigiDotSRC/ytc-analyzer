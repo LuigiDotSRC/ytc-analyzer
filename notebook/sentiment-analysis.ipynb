{
 "cells": [
  {
   "cell_type": "markdown",
   "id": "58a48db3-c3e6-4420-a721-b191e9d66790",
   "metadata": {},
   "source": [
    "from dotenv import load_dotenv\n",
    "load_dotenv()\n",
    "\n",
    "import os\n",
    "key = os.getenv('GOOGLE_API_KEY')"
   ]
  },
  {
   "cell_type": "code",
   "execution_count": 2,
   "id": "87adfe11-05c2-4b9c-9c76-1903e2d05ebe",
   "metadata": {},
   "outputs": [],
   "source": [
    "from dataclasses import dataclass\n",
    "from datetime import datetime\n",
    "from typing import Optional\n",
    "\n",
    "@dataclass\n",
    "class Comment:\n",
    "    comment_id: str\n",
    "    author: str\n",
    "    text: str\n",
    "    like_count: int\n",
    "    published_at: datetime\n",
    "    parent_id: Optional[str]"
   ]
  },
  {
   "cell_type": "code",
   "execution_count": 3,
   "id": "1081b2b8-93b6-440c-a120-795c9f88e789",
   "metadata": {},
   "outputs": [],
   "source": [
    "import requests\n",
    "from typing import List\n",
    "\n",
    "def get_top_level_comments(video_id) -> List[Comment]:\n",
    "    url = 'https://www.googleapis.com/youtube/v3/commentThreads'\n",
    "    order = 'relevance'\n",
    "    params = {\n",
    "        'key': key,\n",
    "        'part': 'snippet',\n",
    "        'videoId': video_id,\n",
    "        'maxResults': 100,\n",
    "        'order': order,\n",
    "    }\n",
    "    \n",
    "    comments = []\n",
    "    response = requests.get(url, params=params)\n",
    "    data = response.json()\n",
    "    for item in data['items']:\n",
    "        top_comment = item['snippet']['topLevelComment']['snippet']\n",
    "        snippet_id = item['id']\n",
    "        author = top_comment['authorDisplayName']\n",
    "        text = top_comment['textDisplay']\n",
    "        like_count = top_comment['likeCount']\n",
    "        published_at = top_comment['publishedAt']\n",
    "\n",
    "        comments.append(Comment(snippet_id, author, text, like_count, published_at, None))\n",
    "    return comments"
   ]
  },
  {
   "cell_type": "code",
   "execution_count": 4,
   "id": "a49bb8ef-d42a-4e7a-b1c1-0735f07f1d43",
   "metadata": {},
   "outputs": [
    {
     "data": {
      "text/plain": [
       "[Comment(comment_id='UgyBjLLdTju8FbrdW314AaABAg', author='@Rxaches4lunch', text='2018: we tried but failed horribly<br>2019: we didn’t even try<br>2020: we didn’t even make one', like_count=129641, published_at='2020-11-12T22:37:59Z', parent_id=None),\n",
       " Comment(comment_id='Ugyl9eWxxbM04WBrUop4AaABAg', author='@2075anant', text='The irony is that YouTube created the most disliked video on YouTube. Can&#39;t get enough of that.', like_count=54990, published_at='2021-06-03T09:58:21Z', parent_id=None),\n",
       " Comment(comment_id='UgzPTxvCQortnOaf1wd4AaABAg', author='@kud4262', text='Every year youtube just keeps getting disconnected from its content creators.', like_count=210609, published_at='2018-12-07T22:16:16Z', parent_id=None),\n",
       " Comment(comment_id='UgwfAGAyka6E9AAYfQN4AaABAg', author='@NormalChannel95', text='I miss when this was our biggest worry.', like_count=1215, published_at='2025-03-02T18:55:07Z', parent_id=None),\n",
       " Comment(comment_id='UgzuRQReymfJpHjItjt4AaABAg', author='@pendragonandjenkins', text='Current rewind: 16 Million dislikes<br><br>2019 rewind:  comments are disabled', like_count=66239, published_at='2019-07-24T20:05:33Z', parent_id=None)]"
      ]
     },
     "execution_count": 4,
     "metadata": {},
     "output_type": "execute_result"
    }
   ],
   "source": [
    "# video_id = 'NDsO1LT_0lw' # mr beast\n",
    "video_id = 'YbJOTdZBX1g' # yt rewind 2018\n",
    "\n",
    "top_level_comments = get_top_level_comments(video_id)\n",
    "top_level_comments[:5]"
   ]
  },
  {
   "cell_type": "code",
   "execution_count": 5,
   "id": "21e55ead-c084-43ac-9c53-a04b5b2859ea",
   "metadata": {},
   "outputs": [],
   "source": [
    "def get_replies(comment_id: str) -> List[Comment]:\n",
    "    url = 'https://www.googleapis.com/youtube/v3/comments'\n",
    "    params = {\n",
    "        'key': key,\n",
    "        'part': 'snippet',\n",
    "        'parentId': comment_id,\n",
    "        'maxResults': 100\n",
    "    }\n",
    "\n",
    "    replies: List[Comment] = []\n",
    "\n",
    "    while 1:\n",
    "        response = requests.get(url, params=params)\n",
    "        data = response.json()\n",
    "\n",
    "        for item in data.get('items', []):\n",
    "            snippet = item['snippet']\n",
    "            replies.append(Comment(\n",
    "                comment_id=item['id'],\n",
    "                author=snippet.get('authorDisplayName', ''),\n",
    "                text=snippet.get('textDisplay', ''),\n",
    "                like_count=snippet.get('likeCount', 0),\n",
    "                published_at=datetime.strptime(snippet['publishedAt'], \"%Y-%m-%dT%H:%M:%SZ\"),\n",
    "                parent_id=snippet.get('parentId')\n",
    "            ))\n",
    "\n",
    "        if 'nextPageToken' in data:\n",
    "            params['pageToken'] = data['nextPageToken']\n",
    "        else:\n",
    "            break\n",
    "\n",
    "    replies.sort(key=lambda c: c.like_count, reverse=True)\n",
    "    return replies"
   ]
  },
  {
   "cell_type": "code",
   "execution_count": 6,
   "id": "2010765f-d481-4550-9005-458e8cea64e3",
   "metadata": {},
   "outputs": [
    {
     "name": "stdout",
     "output_type": "stream",
     "text": [
      "{'neg': 0.0, 'neu': 1.0, 'pos': 0.0, 'compound': 0.0}\n"
     ]
    },
    {
     "name": "stderr",
     "output_type": "stream",
     "text": [
      "[nltk_data] Downloading package vader_lexicon to\n",
      "[nltk_data]     /home/ltera/nltk_data...\n",
      "[nltk_data]   Package vader_lexicon is already up-to-date!\n"
     ]
    }
   ],
   "source": [
    "import nltk\n",
    "nltk.download('vader_lexicon')\n",
    "from nltk.sentiment import SentimentIntensityAnalyzer\n",
    "\n",
    "sia = SentimentIntensityAnalyzer()\n",
    "text = \"test\"\n",
    "score = sia.polarity_scores(text)\n",
    "\n",
    "print(score)"
   ]
  },
  {
   "cell_type": "code",
   "execution_count": 7,
   "id": "46ed617d-5699-4211-9f57-7f8c3c470c0a",
   "metadata": {},
   "outputs": [],
   "source": [
    "import html\n",
    "import re\n",
    "from googletrans import Translator\n",
    "from langdetect import detect\n",
    "\n",
    "async def text_cleanup(text):\n",
    "    text = html.unescape(text)  # decode HTML entities\n",
    "    text = re.sub(r'@\\w+', '', text)  # remove @mentions\n",
    "\n",
    "    translator = Translator()\n",
    "\n",
    "    try:\n",
    "        if detect(text) != 'en':\n",
    "            translation = await translator.translate(text, dest='en')\n",
    "            text = translation.text\n",
    "    except Exception:\n",
    "        pass \n",
    "\n",
    "    text = re.sub(r'[^\\x00-\\x7F]+', '', text)  # remove emojis\n",
    "    text = re.sub(r'[^a-zA-Z,\\s]', '', text)  # remove non-alpha except commas and space\n",
    "    text = re.sub(r'\\s+', ' ', text)  # normalize spacing\n",
    "\n",
    "    return text.strip()"
   ]
  },
  {
   "cell_type": "code",
   "execution_count": 8,
   "id": "66365349-0f03-4a43-b0d0-7c808e945d06",
   "metadata": {},
   "outputs": [
    {
     "name": "stdout",
     "output_type": "stream",
     "text": [
      "Comment(comment_id='Ugyl9eWxxbM04WBrUop4AaABAg', author='@2075anant', text='The irony is that YouTube created the most disliked video on YouTube. Can&#39;t get enough of that.', like_count=54990, published_at='2021-06-03T09:58:21Z', parent_id=None)\n"
     ]
    },
    {
     "data": {
      "text/plain": [
       "<coroutine object analyze_comment_sentiment at 0x7fb56f2797d0>"
      ]
     },
     "execution_count": 8,
     "metadata": {},
     "output_type": "execute_result"
    }
   ],
   "source": [
    "import asyncio\n",
    "\n",
    "async def analyze_comment_sentiment(comment):\n",
    "    preprocessed_text = await text_cleanup(comment.text)\n",
    "    return sia.polarity_scores(preprocessed_text)\n",
    "\n",
    "print(top_level_comments[1])\n",
    "analyze_comment_sentiment(top_level_comments[1])"
   ]
  },
  {
   "cell_type": "code",
   "execution_count": 9,
   "id": "af369af5-7e0e-45cf-b6d0-14cf64c17808",
   "metadata": {},
   "outputs": [
    {
     "name": "stdout",
     "output_type": "stream",
     "text": [
      "NEGATIVE: Comment(comment_id='UgyBjLLdTju8FbrdW314AaABAg', author='@Rxaches4lunch', text='2018: we tried but failed horribly<br>2019: we didn’t even try<br>2020: we didn’t even make one', like_count=129641, published_at='2020-11-12T22:37:59Z', parent_id=None)\n",
      "{'neg': 0.255, 'neu': 0.745, 'pos': 0.0, 'compound': -0.6652}\n",
      "\n",
      "NEGATIVE: Comment(comment_id='Ugyl9eWxxbM04WBrUop4AaABAg', author='@2075anant', text='The irony is that YouTube created the most disliked video on YouTube. Can&#39;t get enough of that.', like_count=54990, published_at='2021-06-03T09:58:21Z', parent_id=None)\n",
      "{'neg': 0.208, 'neu': 0.693, 'pos': 0.099, 'compound': -0.2944}\n",
      "\n",
      "NEUTRAL: Comment(comment_id='UgzPTxvCQortnOaf1wd4AaABAg', author='@kud4262', text='Every year youtube just keeps getting disconnected from its content creators.', like_count=210609, published_at='2018-12-07T22:16:16Z', parent_id=None)\n",
      "{'neg': 0.0, 'neu': 1.0, 'pos': 0.0, 'compound': 0.0}\n",
      "\n",
      "NEGATIVE: Comment(comment_id='UgwfAGAyka6E9AAYfQN4AaABAg', author='@NormalChannel95', text='I miss when this was our biggest worry.', like_count=1215, published_at='2025-03-02T18:55:07Z', parent_id=None)\n",
      "{'neg': 0.474, 'neu': 0.526, 'pos': 0.0, 'compound': -0.5423}\n",
      "\n",
      "NEUTRAL: Comment(comment_id='UgzuRQReymfJpHjItjt4AaABAg', author='@pendragonandjenkins', text='Current rewind: 16 Million dislikes<br><br>2019 rewind:  comments are disabled', like_count=66239, published_at='2019-07-24T20:05:33Z', parent_id=None)\n",
      "{'neg': 0.0, 'neu': 1.0, 'pos': 0.0, 'compound': 0.0}\n",
      "\n",
      "NEUTRAL: Comment(comment_id='UgzB2KtjPsvCorvuSzx4AaABAg', author='@thanos8193', text='That’s the reason why i snapped half of the universe.', like_count=244532, published_at='2019-05-24T15:36:01Z', parent_id=None)\n",
      "{'neg': 0.0, 'neu': 1.0, 'pos': 0.0, 'compound': 0.0}\n",
      "\n",
      "NEUTRAL: Comment(comment_id='Ugyom22X9IYaQffOfNZ4AaABAg', author='@huangxianwei6515', text='<b>Didn&#39;t know Youtube has 2.5million staffs</b>', like_count=661, published_at='2019-03-07T08:43:29Z', parent_id=None)\n",
      "{'neg': 0.0, 'neu': 1.0, 'pos': 0.0, 'compound': 0.0}\n",
      "\n",
      "NEGATIVE: Comment(comment_id='UgxDNjmoIDdd4fT-0F14AaABAg', author='@RavotaNoj', text='this rewind was the reasoning for youtube taking away the dislikes', like_count=368, published_at='2025-03-16T11:53:37Z', parent_id=None)\n",
      "{'neg': 0.213, 'neu': 0.787, 'pos': 0.0, 'compound': -0.4019}\n",
      "\n",
      "NEGATIVE: Comment(comment_id='UgziuYwVptYRziN1U2d4AaABAg', author='@vivalapewds4179', text='<a href=\"https://www.youtube.com/watch?v=YbJOTdZBX1g&amp;t=326\">5:26</a> “lets give the people what they want” <br><br>X to doubt', like_count=62441, published_at='2018-12-07T00:32:28Z', parent_id=None)\n",
      "{'neg': 0.195, 'neu': 0.703, 'pos': 0.102, 'compound': -0.296}\n",
      "\n",
      "NEGATIVE: Comment(comment_id='Ugxsu2Q0b-fcS0z0Sud4AaABAg', author='@matthuh9015', text='I came into this with no expectations and was still disappointed', like_count=24452, published_at='2018-12-06T23:34:02Z', parent_id=None)\n",
      "{'neg': 0.398, 'neu': 0.602, 'pos': 0.0, 'compound': -0.6486}\n",
      "\n"
     ]
    }
   ],
   "source": [
    "pnng = [0]*3\n",
    "n = 10 # only output first n comments\n",
    "\n",
    "for comment in top_level_comments:\n",
    "    score = await analyze_comment_sentiment(comment)\n",
    "    if score['pos'] > score['neg']:\n",
    "        sentiment = 'POSITIVE'\n",
    "        pnng[0] += 1\n",
    "    elif score['neg'] > score['pos']:\n",
    "        sentiment = 'NEGATIVE'\n",
    "        pnng[2] += 1\n",
    "    else:\n",
    "        sentiment = 'NEUTRAL'\n",
    "        pnng[1] += 1\n",
    "\n",
    "    if n > 0:\n",
    "        print(f'{sentiment}: {comment}\\n{score}\\n')\n",
    "\n",
    "    n -= 1"
   ]
  },
  {
   "cell_type": "code",
   "execution_count": 10,
   "id": "c6e3d942-d8ee-40ba-8905-8f405d5e0eff",
   "metadata": {},
   "outputs": [
    {
     "name": "stdout",
     "output_type": "stream",
     "text": [
      "[33, 26, 41]\n"
     ]
    },
    {
     "data": {
      "image/png": "[encoded data removed]",
      "text/plain": [
       "<Figure size 640x480 with 1 Axes>"
      ]
     },
     "metadata": {},
     "output_type": "display_data"
    }
   ],
   "source": [
    "import matplotlib.pyplot as plt\n",
    "\n",
    "labels = 'Positive', 'Neutral', 'Negative'\n",
    "fig, ax = plt.subplots()\n",
    "ax.pie(pnng, labels=labels, autopct='%1.1f%%', colors=['deepskyblue','slategray','orangered'])\n",
    "print(pnng)"
   ]
  },
  {
   "cell_type": "code",
   "execution_count": 11,
   "id": "575499f1-03f2-4aca-af9f-6ccb8b12197d",
   "metadata": {},
   "outputs": [],
   "source": [
    "from langchain_openai import ChatOpenAI\n",
    "from langchain_core.prompts import ChatPromptTemplate\n",
    "from langchain.chains.combine_documents import create_stuff_documents_chain\n",
    "from langchain_core.documents import Document\n",
    "\n",
    "def openai_summarize(comments):\n",
    "    docs = [Document(page_content=comment.text) for comment in comments]\n",
    "    \n",
    "    prompt = ChatPromptTemplate.from_messages(\n",
    "        [(\"system\", \"Write a summary of the following youtube comments. Highlight specific comments and preserve user sentiment:\\\\n\\\\n{context}\")]\n",
    "    )\n",
    "    \n",
    "    llm = ChatOpenAI(model_name=\"gpt-4\", temperature=0.5)\n",
    "    chain = create_stuff_documents_chain(llm, prompt)\n",
    "\n",
    "    result = chain.invoke({\"context\": docs})\n",
    "    \n",
    "    return result"
   ]
  },
  {
   "cell_type": "code",
   "execution_count": 13,
   "id": "581b273d-3761-46bf-ba40-ed9e7d86a77f",
   "metadata": {},
   "outputs": [
    {
     "name": "stdout",
     "output_type": "stream",
     "text": [
      "The comments reflect a general dissatisfaction with YouTube's Rewind videos, particularly the 2018 and 2019 editions. Users feel YouTube is disconnected from its content creators and community, with one user stating, \"Every year YouTube just keeps getting disconnected from its content creators.\" Many comments highlight the irony of YouTube creating the most disliked video on its platform, and express disappointment at the removal of the dislike button, which they believe was a response to the negative reception of the Rewind videos. They also criticize the absence of popular YouTubers like PewDiePie and the inclusion of irrelevant content. Some users, however, express a sense of nostalgia for the Rewind videos and suggest they were not as bad in hindsight. A few comments also humorously note the high number of dislikes, with one user saying, \"Fun fact: There are more dislikes on this video than people in the entire country of Kazakhstan.\"\n"
     ]
    }
   ],
   "source": [
    "s = True\n",
    "if s:\n",
    "    summary = openai_summarize(top_level_comments)\n",
    "    print(summary)"
   ]
  }
 ],
 "metadata": {
  "kernelspec": {
   "display_name": "ytc-venv",
   "language": "python",
   "name": "venv"
  },
  "language_info": {
   "codemirror_mode": {
    "name": "ipython",
    "version": 3
   },
   "file_extension": ".py",
   "mimetype": "text/x-python",
   "name": "python",
   "nbconvert_exporter": "python",
   "pygments_lexer": "ipython3",
   "version": "3.13.3"
  }
 },
 "nbformat": 4,
 "nbformat_minor": 5
}
